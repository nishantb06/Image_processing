{
 "cells": [
  {
   "cell_type": "code",
   "execution_count": 1,
   "metadata": {},
   "outputs": [],
   "source": [
    "import cv2 as cv\n",
    "import numpy as np\n",
    "from skimage import io,img_as_float"
   ]
  },
  {
   "cell_type": "code",
   "execution_count": 2,
   "metadata": {},
   "outputs": [
    {
     "name": "stdout",
     "output_type": "stream",
     "text": [
      "step 1: Width_num = 305.0, Height_num = 237.33333333333334\n",
      "step 2: Width_num = 305.0, Height_num = 237.33333333333334\n"
     ]
    },
    {
     "ename": "NameError",
     "evalue": "name 'sigma_color' is not defined",
     "output_type": "error",
     "traceback": [
      "\u001b[0;31m---------------------------------------------------------------------------\u001b[0m",
      "\u001b[0;31mNameError\u001b[0m                                 Traceback (most recent call last)",
      "Input \u001b[0;32mIn [2]\u001b[0m, in \u001b[0;36m<module>\u001b[0;34m\u001b[0m\n\u001b[1;32m      1\u001b[0m url \u001b[38;5;241m=\u001b[39m \u001b[38;5;124m\"\u001b[39m\u001b[38;5;124mhttps://dynamic-image-resizer.sharechat.com/imageResizer/\u001b[39m\u001b[38;5;132;01m%E\u001b[39;00m\u001b[38;5;124m0\u001b[39m\u001b[38;5;124m%\u001b[39m\u001b[38;5;124mA4\u001b[39m\u001b[38;5;132;01m%95%\u001b[39;00m\u001b[38;5;124mE0\u001b[39m\u001b[38;5;124m%\u001b[39m\u001b[38;5;124mA5\u001b[39m\u001b[38;5;132;01m%83%\u001b[39;00m\u001b[38;5;124mE0\u001b[39m\u001b[38;5;124m%\u001b[39m\u001b[38;5;124mA4\u001b[39m\u001b[38;5;124m%\u001b[39m\u001b[38;5;124mB7\u001b[39m\u001b[38;5;132;01m%E\u001b[39;00m\u001b[38;5;124m0\u001b[39m\u001b[38;5;124m%\u001b[39m\u001b[38;5;124mA5\u001b[39m\u001b[38;5;124m%\u001b[39m\u001b[38;5;124m8D\u001b[39m\u001b[38;5;132;01m%E\u001b[39;00m\u001b[38;5;124m0\u001b[39m\u001b[38;5;124m%\u001b[39m\u001b[38;5;124mA4\u001b[39m\u001b[38;5;124m%\u001b[39m\u001b[38;5;124mA3\u001b[39m\u001b[38;5;132;01m%E\u001b[39;00m\u001b[38;5;124m0\u001b[39m\u001b[38;5;124m%\u001b[39m\u001b[38;5;124mA4\u001b[39m\u001b[38;5;132;01m%95%\u001b[39;00m\u001b[38;5;124mE0\u001b[39m\u001b[38;5;124m%\u001b[39m\u001b[38;5;124mA4\u001b[39m\u001b[38;5;124m%\u001b[39m\u001b[38;5;124mA5\u001b[39m\u001b[38;5;132;01m%E\u001b[39;00m\u001b[38;5;124m0\u001b[39m\u001b[38;5;124m%\u001b[39m\u001b[38;5;124mA4\u001b[39m\u001b[38;5;124m%\u001b[39m\u001b[38;5;124mBE\u001b[39m\u001b[38;5;132;01m%E\u001b[39;00m\u001b[38;5;124m0\u001b[39m\u001b[38;5;124m%\u001b[39m\u001b[38;5;124mA4\u001b[39m\u001b[38;5;132;01m%8F\u001b[39;00m\u001b[38;5;132;01m%E\u001b[39;00m\u001b[38;5;124m0\u001b[39m\u001b[38;5;124m%\u001b[39m\u001b[38;5;124mA4\u001b[39m\u001b[38;5;124m%\u001b[39m\u001b[38;5;124m82_35279ab8_1642535570715_sc_atrbtd.jpg\u001b[39m\u001b[38;5;124m\"\u001b[39m\n\u001b[1;32m      2\u001b[0m img \u001b[38;5;241m=\u001b[39m io\u001b[38;5;241m.\u001b[39mimread(url)\n\u001b[0;32m----> 3\u001b[0m first_img,second_img \u001b[38;5;241m=\u001b[39m \u001b[43mBM3D\u001b[49m\u001b[43m(\u001b[49m\u001b[43mimg\u001b[49m\u001b[43m)\u001b[49m\n",
      "File \u001b[0;32m~/Desktop/Image_processing/BM3D.py:434\u001b[0m, in \u001b[0;36mBM3D\u001b[0;34m(img)\u001b[0m\n\u001b[1;32m    430\u001b[0m imgYCB \u001b[38;5;241m=\u001b[39m cv2\u001b[38;5;241m.\u001b[39mcvtColor(img, cv2\u001b[38;5;241m.\u001b[39mCOLOR_BGR2YCrCb)\n\u001b[1;32m    433\u001b[0m basic_img \u001b[38;5;241m=\u001b[39m BM3D_1st_step_color(imgYCB)\n\u001b[0;32m--> 434\u001b[0m final_img \u001b[38;5;241m=\u001b[39m \u001b[43mBM3D_2nd_step_color\u001b[49m\u001b[43m(\u001b[49m\u001b[43mbasic_img\u001b[49m\u001b[43m,\u001b[49m\u001b[43m \u001b[49m\u001b[43mimgYCB\u001b[49m\u001b[43m)\u001b[49m\n\u001b[1;32m    436\u001b[0m \u001b[38;5;28;01mreturn\u001b[39;00m basic_img,final_img\n",
      "File \u001b[0;32m~/Desktop/Image_processing/BM3D.py:406\u001b[0m, in \u001b[0;36mBM3D_2nd_step_color\u001b[0;34m(_basicImg, _noisyImg)\u001b[0m\n\u001b[1;32m    404\u001b[0m Similar_Blks, Similar_Imgs, Positions, Count \u001b[38;5;241m=\u001b[39m Step2_fast_match_color(_basicImg, _noisyImg, m_blockPoint)\n\u001b[1;32m    405\u001b[0m \u001b[38;5;66;03m#print(\"step 2 Similar_Blks shape : \"+str(Similar_Blks.shape)+\"; Count = \"+str(Count)+\"; sum(abs(Similar_Blks)) = \"+str(numpy.sum(numpy.abs(Similar_Blks))))\u001b[39;00m\n\u001b[0;32m--> 406\u001b[0m Similar_Blks, Wiener_wight \u001b[38;5;241m=\u001b[39m \u001b[43mStep2_3DFiltering_color\u001b[49m\u001b[43m(\u001b[49m\u001b[43mSimilar_Blks\u001b[49m\u001b[43m,\u001b[49m\u001b[43m \u001b[49m\u001b[43mSimilar_Imgs\u001b[49m\u001b[43m,\u001b[49m\u001b[43m \u001b[49m\u001b[43mCount\u001b[49m\u001b[43m)\u001b[49m\n\u001b[1;32m    407\u001b[0m \u001b[38;5;66;03m#print(Similar_Blks.shape)\u001b[39;00m\n\u001b[1;32m    408\u001b[0m Aggregation_Wiener_color(Similar_Blks, Wiener_wight, Positions, m_img, m_Wight, Count, m_Kaiser)\n",
      "File \u001b[0;32m~/Desktop/Image_processing/BM3D.py:355\u001b[0m, in \u001b[0;36mStep2_3DFiltering_color\u001b[0;34m(_Similar_Bscs, _Similar_Imgs, Count)\u001b[0m\n\u001b[1;32m    353\u001b[0m tem_Vct_Trans \u001b[38;5;241m=\u001b[39m numpy\u001b[38;5;241m.\u001b[39mmatrix(cv2\u001b[38;5;241m.\u001b[39mdct(tem_vector))\n\u001b[1;32m    354\u001b[0m Norm_2 \u001b[38;5;241m=\u001b[39m numpy\u001b[38;5;241m.\u001b[39mfloat64(tem_Vct_Trans\u001b[38;5;241m.\u001b[39mT \u001b[38;5;241m*\u001b[39m tem_Vct_Trans)\n\u001b[0;32m--> 355\u001b[0m m_weight \u001b[38;5;241m=\u001b[39m Norm_2\u001b[38;5;241m/\u001b[39mCount\u001b[38;5;241m/\u001b[39m(Norm_2\u001b[38;5;241m/\u001b[39mCount \u001b[38;5;241m+\u001b[39m \u001b[43msigma_color\u001b[49m[ch]\u001b[38;5;241m*\u001b[39m\u001b[38;5;241m*\u001b[39m\u001b[38;5;241m2\u001b[39m)\n\u001b[1;32m    356\u001b[0m \u001b[38;5;66;03m#print(\"m_weight = \"+str(m_weight))\u001b[39;00m\n\u001b[1;32m    357\u001b[0m \u001b[38;5;28;01mif\u001b[39;00m m_weight \u001b[38;5;241m!=\u001b[39m \u001b[38;5;241m0\u001b[39m:\n",
      "\u001b[0;31mNameError\u001b[0m: name 'sigma_color' is not defined"
     ]
    }
   ],
   "source": [
    "url = \"https://dynamic-image-resizer.sharechat.com/imageResizer/%E0%A4%95%E0%A5%83%E0%A4%B7%E0%A5%8D%E0%A4%A3%E0%A4%95%E0%A4%A5%E0%A4%BE%E0%A4%8F%E0%A4%82_35279ab8_1642535570715_sc_atrbtd.jpg\"\n",
    "img = io.imread(url)\n",
    "first_img,second_img = BM3D(img)"
   ]
  },
  {
   "cell_type": "code",
   "execution_count": 4,
   "metadata": {},
   "outputs": [
    {
     "name": "stdout",
     "output_type": "stream",
     "text": [
      "None\n"
     ]
    }
   ],
   "source": [
    "print(img)"
   ]
  },
  {
   "cell_type": "code",
   "execution_count": null,
   "metadata": {},
   "outputs": [],
   "source": []
  }
 ],
 "metadata": {
  "interpreter": {
   "hash": "28425a07abb00078f93a1fc9a819e76d6b666d2f72391c3cc869f22b07de7686"
  },
  "kernelspec": {
   "display_name": "Python 3.9.5 64-bit ('base': conda)",
   "language": "python",
   "name": "python3"
  },
  "language_info": {
   "codemirror_mode": {
    "name": "ipython",
    "version": 3
   },
   "file_extension": ".py",
   "mimetype": "text/x-python",
   "name": "python",
   "nbconvert_exporter": "python",
   "pygments_lexer": "ipython3",
   "version": "3.9.5"
  },
  "orig_nbformat": 4
 },
 "nbformat": 4,
 "nbformat_minor": 2
}
